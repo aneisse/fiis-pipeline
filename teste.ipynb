{
 "cells": [
  {
   "cell_type": "code",
   "execution_count": null,
   "id": "6fbadc22",
   "metadata": {},
   "outputs": [
    {
     "name": "stdout",
     "output_type": "stream",
     "text": [
      "Iniciando a busca pela lista de todos os FIIs no Fundamentus...\n",
      " > Acessando URL: https://www.fundamentus.com.br/fii_imoveis.php\n",
      "2083 FIIs encontrados.\n",
      "Buscando indicadores para AROA11...\n",
      " > Acessando URL: https://www.fundamentus.com.br/detalhes.php?papel=AROA11\n",
      "Buscando indicadores para ERPA11...\n",
      " > Acessando URL: https://www.fundamentus.com.br/detalhes.php?papel=ERPA11\n",
      "Buscando indicadores para HGBS11...\n",
      " > Acessando URL: https://www.fundamentus.com.br/detalhes.php?papel=HGBS11\n"
     ]
    },
    {
     "data": {
      "text/plain": [
       "[FII(ticker='AROA11'), FII(ticker='ERPA11'), FII(ticker='HGBS11')]"
      ]
     },
     "execution_count": 1,
     "metadata": {},
     "output_type": "execute_result"
    }
   ],
   "source": [
    "import fiiscraper as fscp\n",
    "import pandas as pd\n",
    "\n",
    "# Criando o Scraper (Métodos de raspagem dos dados)\n",
    "scraper = fscp.Scraper()\n",
    "\n",
    "# Listagem de FIIs disponíveis no site Fundamentus\n",
    "lista_fiis = scraper.listar_todos_fiis()\n",
    "\n",
    "# Busca os dados de indicadores do dia\n",
    "indicadores_fiis = []\n",
    "for fii in lista_fiis:\n",
    "\n",
    "    # Busca indicadores do FII\n",
    "    indicadores_fii = scraper.buscar_indicadores_dia(fii.ticker)\n",
    "    \n",
    "    # Adiciona FII à lista\n",
    "    indicadores_fiis.append(indicadores_fii)\n",
    "\n",
    "indicadores_fiis\n",
    "# Busca o histórico de preços para cada FII na lista\n",
    "historico_fiis = pd.DataFrame()\n",
    "for fii in lista_fiis:\n",
    "    # Busca o histórico de preços  ods últimos 3 meses\n",
    "    historico_fii = scraper.buscar_historico_precos(fii.ticker)\n",
    "\n",
    "    # Insere o nome do ticker como primeira coluna\n",
    "    historico_fii.insert(0, 'ticker', fii.ticker)\n",
    "\n",
    "    # Adiciona os dados ao dataframe\n",
    "    historico_fiis = pd.concat([historico_fiis, historico_fii])"
   ]
  }
 ],
 "metadata": {
  "kernelspec": {
   "display_name": "Python 3",
   "language": "python",
   "name": "python3"
  },
  "language_info": {
   "codemirror_mode": {
    "name": "ipython",
    "version": 3
   },
   "file_extension": ".py",
   "mimetype": "text/x-python",
   "name": "python",
   "nbconvert_exporter": "python",
   "pygments_lexer": "ipython3",
   "version": "3.13.4"
  }
 },
 "nbformat": 4,
 "nbformat_minor": 5
}
