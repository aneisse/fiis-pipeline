{
 "cells": [
  {
   "cell_type": "code",
   "execution_count": 1,
   "id": "6fbadc22",
   "metadata": {},
   "outputs": [
    {
     "name": "stdout",
     "output_type": "stream",
     "text": [
      "{'FII': 'ALZR11', 'Cotação': '10,50', 'Nome': 'ALIANZA TRUST RENDA IMOBILIÁRIA - FUNDO DE INVESTIMENTO IMOBILIÁRIO RESPONSABILIDADE LIMITADA', 'Data últ cot': '20/10/2025', 'Mandato': '', 'Min 52 sem': '8,59', 'Segmento': 'Multicategoria', 'Max 52 sem': '10,55', 'Gestão': 'Ativa', 'Vol $ méd (2m)': '1.547.460', 'Valor de mercado': '1.283.800.000', 'Nro. Cotas': '122.266.250', 'Relatório': '30/09/2025', 'Últ Info Trimestral': '30/06/2025', 'Dia': '0,03%', 'FFO Yield': '8,21%', 'FFO/Cota': '0,86', 'Mês': '-0,16%', 'Div. Yield': '9,3%', 'Dividendo/cota': '1,72', '30 dias': '0,89%', 'P/VP': '0,99', 'VP/Cota': '10,66', '12 meses': '11,90%', '2025': '13,15%', '2024': '-5,40%', 'Receita': '146.613.000', 'Receita_2': '41.225.900', '2023': '17,81%', 'Venda de ativos': '118.142.000', 'Venda de ativos_2': '51.541.000', '2022': '12,19%', 'FFO': '105.377.000', 'FFO_2': '25.329.500', '2021': '-4,29%', 'Rend. Distribuído': '210.500.000', 'Rend. Distribuído_2': '30.523.800', '2020': '-1,41%', '': '', 'Ativos': '1.723.590.000', 'Patrim Líquido': '1.302.910.000', 'Qtd imóveis': '19', 'Área (m2)': '247.173', 'Cap Rate': '7,6%', 'Qtd Unidades': '21', 'Aluguel/m2': '347', 'Vacância Média': '0,0%', 'Imóveis/PL do FII': '87,5%', 'Preço do m2': '4.547', '_2': ''}\n",
      "{'FII': 'CXCO11', 'Cotação': '59,44', 'Nome': 'CAIXA IMÓVEIS CORPORATIVOS FUNDO DE INVESTIMENTO IMOBILIÁRIO - RESPONSABILIDADE LIMITADA', 'Data últ cot': '20/10/2025', 'Mandato': '', 'Min 52 sem': '45,25', 'Segmento': 'Multicategoria', 'Max 52 sem': '60,45', 'Gestão': 'Ativa', 'Vol $ méd (2m)': '136.926', 'Valor de mercado': '233.272.000', 'Nro. Cotas': '3.924.500', 'Relatório': '29/08/2025', 'Últ Info Trimestral': '30/06/2025', 'Dia': '-0,22%', 'FFO Yield': '14,38%', 'FFO/Cota': '8,54', 'Mês': '-0,38%', 'Div. Yield': '13,6%', 'Dividendo/cota': '8,19', '30 dias': '2,98%', 'P/VP': '0,62', 'VP/Cota': '96,29', '12 meses': '8,39%', '2025': '15,82%', '2024': '-19,33%', 'Receita': '37.977.300', 'Receita_2': '9.922.810', '2023': '27,93%', 'Venda de ativos': '101.789', 'Venda de ativos_2': '0', '2022': '-3,18%', 'FFO': '33.534.500', 'FFO_2': '9.057.630', '2021': '-18,06%', 'Rend. Distribuído': '32.150.700', 'Rend. Distribuído_2': '7.888.240', '2020': '0,00%', '': '', 'Ativos': '380.726.000', 'Patrim Líquido': '377.887.000', 'Qtd imóveis': '10', 'Área (m2)': '91.730', 'Cap Rate': '16,5%', 'Qtd Unidades': '10', 'Aluguel/m2': '412', 'Vacância Média': '0,0%', 'Imóveis/PL do FII': '98,2%', 'Preço do m2': '2.498', '_2': ''}\n",
      "{'FII': 'GTWR11', 'Cotação': '77,10', 'Nome': 'FUNDO DE INVESTIMENTO IMOBILIÁRIO GREEN TOWERS RESPONSABILIDADE LIMITADA', 'Data últ cot': '20/10/2025', 'Mandato': '', 'Min 52 sem': '60,70', 'Segmento': 'Escritórios', 'Max 52 sem': '78,10', 'Gestão': 'Ativa', 'Vol $ méd (2m)': '958.337', 'Valor de mercado': '925.200.000', 'Nro. Cotas': '12.000.000', 'Relatório': '30/09/2025', 'Últ Info Trimestral': '30/06/2025', 'Dia': '0,00%', 'FFO Yield': '13,38%', 'FFO/Cota': '10,32', 'Mês': '-1,28%', 'Div. Yield': '13,0%', 'Dividendo/cota': '10,17', '30 dias': '0,83%', 'P/VP': '0,77', 'VP/Cota': '99,76', '12 meses': '18,06%', '2025': '21,30%', '2024': '-7,84%', 'Receita': '129.376.000', 'Receita_2': '33.561.600', '2023': '23,40%', 'Venda de ativos': '887.582', 'Venda de ativos_2': '0', '2022': '-0,58%', 'FFO': '123.831.000', 'FFO_2': '32.542.500', '2021': '-12,92%', 'Rend. Distribuído': '122.040.000', 'Rend. Distribuído_2': '32.400.000', '2020': '2,58%', '': '', 'Ativos': '1.208.720.000', 'Patrim Líquido': '1.197.150.000', 'Qtd imóveis': '0', 'Área (m2)': '0', 'Cap Rate': '14,1%', 'Qtd Unidades': '0', 'Aluguel/m2': '-', 'Vacância Média': '-', 'Imóveis/PL do FII': '98,0%', 'Preço do m2': '-', '_2': ''}\n",
      "{'FII': 'MAXR11', 'Cotação': '64,06', 'Nome': 'FUNDO DE INVESTIMENTO IMOBILIÁRIO - FII MAX RETAIL RESPONSABILIDADE LIMITADA', 'Data últ cot': '20/10/2025', 'Mandato': '', 'Min 52 sem': '54,46', 'Segmento': 'Outros', 'Max 52 sem': '64,64', 'Gestão': 'Definida', 'Vol $ méd (2m)': '252.187', 'Valor de mercado': '72.109.500', 'Nro. Cotas': '1.125.655', 'Relatório': '31/08/2025', 'Últ Info Trimestral': '30/06/2025', 'Dia': '-0,22%', 'FFO Yield': '7,05%', 'FFO/Cota': '4,51', 'Mês': '-0,48%', 'Div. Yield': '18,2%', 'Dividendo/cota': '12,43', '30 dias': '0,45%', 'P/VP': '0,63', 'VP/Cota': '102,21', '12 meses': '16,73%', '2025': '4,27%', '2024': '16,04%', 'Receita': '7.115.360', 'Receita_2': '1.708.020', '2023': '23,73%', 'Venda de ativos': '22.673.400', 'Venda de ativos_2': '6.173.410', '2022': '-11,05%', 'FFO': '5.080.460', 'FFO_2': '1.025.220', '2021': '-9,69%', 'Rend. Distribuído': '13.990.300', 'Rend. Distribuído_2': '1.443.910', '2020': '-11,89%', '': '', 'Ativos': '115.719.000', 'Patrim Líquido': '115.049.000', 'Qtd imóveis': '7', 'Área (m2)': '59.660', 'Cap Rate': '10,0%', 'Qtd Unidades': '10', 'Aluguel/m2': '111', 'Vacância Média': '24,5%', 'Imóveis/PL do FII': '92,1%', 'Preço do m2': '1.114', '_2': ''}\n",
      "{'FII': 'RZZR11', 'Cotação': '135,00', 'Nome': 'RAIZZ RENDA LOGÍSTICA FUNDO DE INVESTIMENTO IMOBILIÁRIO RESPONSABILIDADE LIMITADA', 'Data últ cot': '20/10/2025', 'Mandato': '', 'Min 52 sem': '114,88', 'Segmento': 'Logística', 'Max 52 sem': '153,47', 'Gestão': 'Ativa', 'Vol $ méd (2m)': '131.513', 'Valor de mercado': '726.752.000', 'Nro. Cotas': '5.383.350', 'Relatório': '30/09/2025', 'Últ Info Trimestral': '30/06/2025', 'Dia': '0,00%', 'FFO Yield': '9,25%', 'FFO/Cota': '12,49', 'Mês': '-4,52%', 'Div. Yield': '10,4%', 'Dividendo/cota': '13,43', '30 dias': '0,87%', 'P/VP': '0,77', 'VP/Cota': '176,06', '12 meses': '1,55%', '2025': '-1,34%', '2024': '12,97%', 'Receita': '68.137.000', 'Receita_2': '18.206.600', '2023': '9,49%', 'Venda de ativos': '0', 'Venda de ativos_2': '0', '2022': '6,87%', 'FFO': '67.252.700', 'FFO_2': '17.843.100', '2021': '-6,03%', 'Rend. Distribuído': '72.281.500', 'Rend. Distribuído_2': '19.316.700', '2020': '0,00%', '': '', 'Ativos': '959.431.000', 'Patrim Líquido': '947.795.000', 'Qtd imóveis': '10', 'Área (m2)': '192.227.326', 'Cap Rate': '10,2%', 'Qtd Unidades': '10', 'Aluguel/m2': '0', 'Vacância Média': '0,0%', 'Imóveis/PL do FII': '89,5%', 'Preço do m2': '3', '_2': ''}\n",
      "{'FII': 'VVMR11', 'Cotação': '84,54', 'Nome': 'V2 MULTI RENDA FUNDO DE INVESTIMENTO IMOBILIÁRIO RESPONSABILIDADE LIMITADA', 'Data últ cot': '20/10/2025', 'Mandato': '', 'Min 52 sem': '75,07', 'Segmento': 'Multicategoria', 'Max 52 sem': '90,17', 'Gestão': 'Ativa', 'Vol $ méd (2m)': '367.071', 'Valor de mercado': '238.672.000', 'Nro. Cotas': '2.823.180', 'Relatório': '30/08/2025', 'Últ Info Trimestral': '30/06/2025', 'Dia': '-0,04%', 'FFO Yield': '2,52%', 'FFO/Cota': '2,13', 'Mês': '-0,30%', 'Div. Yield': '2,7%', 'Dividendo/cota': '2,26', '30 dias': '0,88%', 'P/VP': '0,80', 'VP/Cota': '106,20', '12 meses': '-0,25%', '2025': '-4,59%', '2024': '6,87%', 'Receita': '15.875.200', 'Receita_2': '2.923.740', '2023': '15,66%', 'Venda de ativos': '-713.328', 'Venda de ativos_2': '-713.428', '2022': '5,70%', 'FFO': '6.014.920', 'FFO_2': '833.977', '2021': '-2,95%', 'Rend. Distribuído': '6.380.390', 'Rend. Distribuído_2': '1.693.910', '2020': '5,95%', '': '', 'Ativos': '333.369.000', 'Patrim Líquido': '299.814.000', 'Qtd imóveis': '5', 'Área (m2)': '33.153', 'Cap Rate': '6,9%', 'Qtd Unidades': '258', 'Aluguel/m2': '472', 'Vacância Média': '2,8%', 'Imóveis/PL do FII': '95,2%', 'Preço do m2': '6.850', '_2': ''}\n",
      "{'FII': 'ALZR11', 'Cotação': '10,50', 'Nome': 'ALIANZA TRUST RENDA IMOBILIÁRIA - FUNDO DE INVESTIMENTO IMOBILIÁRIO RESPONSABILIDADE LIMITADA', 'Data últ cot': '20/10/2025', 'Mandato': '', 'Min 52 sem': '8,59', 'Segmento': 'Multicategoria', 'Max 52 sem': '10,55', 'Gestão': 'Ativa', 'Vol $ méd (2m)': '1.547.460', 'Valor de mercado': '1.283.800.000', 'Nro. Cotas': '122.266.250', 'Relatório': '30/09/2025', 'Últ Info Trimestral': '30/06/2025', 'Dia': '0,03%', 'FFO Yield': '8,21%', 'FFO/Cota': '0,86', 'Mês': '-0,16%', 'Div. Yield': '9,3%', 'Dividendo/cota': '1,72', '30 dias': '0,89%', 'P/VP': '0,99', 'VP/Cota': '10,66', '12 meses': '11,90%', '2025': '13,15%', '2024': '-5,40%', 'Receita': '146.613.000', 'Receita_2': '41.225.900', '2023': '17,81%', 'Venda de ativos': '118.142.000', 'Venda de ativos_2': '51.541.000', '2022': '12,19%', 'FFO': '105.377.000', 'FFO_2': '25.329.500', '2021': '-4,29%', 'Rend. Distribuído': '210.500.000', 'Rend. Distribuído_2': '30.523.800', '2020': '-1,41%', '': '', 'Ativos': '1.723.590.000', 'Patrim Líquido': '1.302.910.000', 'Qtd imóveis': '19', 'Área (m2)': '247.173', 'Cap Rate': '7,6%', 'Qtd Unidades': '21', 'Aluguel/m2': '347', 'Vacância Média': '0,0%', 'Imóveis/PL do FII': '87,5%', 'Preço do m2': '4.547', '_2': ''}\n",
      "{'FII': 'CXCO11', 'Cotação': '59,44', 'Nome': 'CAIXA IMÓVEIS CORPORATIVOS FUNDO DE INVESTIMENTO IMOBILIÁRIO - RESPONSABILIDADE LIMITADA', 'Data últ cot': '20/10/2025', 'Mandato': '', 'Min 52 sem': '45,25', 'Segmento': 'Multicategoria', 'Max 52 sem': '60,45', 'Gestão': 'Ativa', 'Vol $ méd (2m)': '136.926', 'Valor de mercado': '233.272.000', 'Nro. Cotas': '3.924.500', 'Relatório': '29/08/2025', 'Últ Info Trimestral': '30/06/2025', 'Dia': '-0,22%', 'FFO Yield': '14,38%', 'FFO/Cota': '8,54', 'Mês': '-0,38%', 'Div. Yield': '13,6%', 'Dividendo/cota': '8,19', '30 dias': '2,98%', 'P/VP': '0,62', 'VP/Cota': '96,29', '12 meses': '8,39%', '2025': '15,82%', '2024': '-19,33%', 'Receita': '37.977.300', 'Receita_2': '9.922.810', '2023': '27,93%', 'Venda de ativos': '101.789', 'Venda de ativos_2': '0', '2022': '-3,18%', 'FFO': '33.534.500', 'FFO_2': '9.057.630', '2021': '-18,06%', 'Rend. Distribuído': '32.150.700', 'Rend. Distribuído_2': '7.888.240', '2020': '0,00%', '': '', 'Ativos': '380.726.000', 'Patrim Líquido': '377.887.000', 'Qtd imóveis': '10', 'Área (m2)': '91.730', 'Cap Rate': '16,5%', 'Qtd Unidades': '10', 'Aluguel/m2': '412', 'Vacância Média': '0,0%', 'Imóveis/PL do FII': '98,2%', 'Preço do m2': '2.498', '_2': ''}\n",
      "{'FII': 'GTWR11', 'Cotação': '77,10', 'Nome': 'FUNDO DE INVESTIMENTO IMOBILIÁRIO GREEN TOWERS RESPONSABILIDADE LIMITADA', 'Data últ cot': '20/10/2025', 'Mandato': '', 'Min 52 sem': '60,70', 'Segmento': 'Escritórios', 'Max 52 sem': '78,10', 'Gestão': 'Ativa', 'Vol $ méd (2m)': '958.337', 'Valor de mercado': '925.200.000', 'Nro. Cotas': '12.000.000', 'Relatório': '30/09/2025', 'Últ Info Trimestral': '30/06/2025', 'Dia': '0,00%', 'FFO Yield': '13,38%', 'FFO/Cota': '10,32', 'Mês': '-1,28%', 'Div. Yield': '13,0%', 'Dividendo/cota': '10,17', '30 dias': '0,83%', 'P/VP': '0,77', 'VP/Cota': '99,76', '12 meses': '18,06%', '2025': '21,30%', '2024': '-7,84%', 'Receita': '129.376.000', 'Receita_2': '33.561.600', '2023': '23,40%', 'Venda de ativos': '887.582', 'Venda de ativos_2': '0', '2022': '-0,58%', 'FFO': '123.831.000', 'FFO_2': '32.542.500', '2021': '-12,92%', 'Rend. Distribuído': '122.040.000', 'Rend. Distribuído_2': '32.400.000', '2020': '2,58%', '': '', 'Ativos': '1.208.720.000', 'Patrim Líquido': '1.197.150.000', 'Qtd imóveis': '0', 'Área (m2)': '0', 'Cap Rate': '14,1%', 'Qtd Unidades': '0', 'Aluguel/m2': '-', 'Vacância Média': '-', 'Imóveis/PL do FII': '98,0%', 'Preço do m2': '-', '_2': ''}\n",
      "{'FII': 'MAXR11', 'Cotação': '64,06', 'Nome': 'FUNDO DE INVESTIMENTO IMOBILIÁRIO - FII MAX RETAIL RESPONSABILIDADE LIMITADA', 'Data últ cot': '20/10/2025', 'Mandato': '', 'Min 52 sem': '54,46', 'Segmento': 'Outros', 'Max 52 sem': '64,64', 'Gestão': 'Definida', 'Vol $ méd (2m)': '252.187', 'Valor de mercado': '72.109.500', 'Nro. Cotas': '1.125.655', 'Relatório': '31/08/2025', 'Últ Info Trimestral': '30/06/2025', 'Dia': '-0,22%', 'FFO Yield': '7,05%', 'FFO/Cota': '4,51', 'Mês': '-0,48%', 'Div. Yield': '18,2%', 'Dividendo/cota': '12,43', '30 dias': '0,45%', 'P/VP': '0,63', 'VP/Cota': '102,21', '12 meses': '16,73%', '2025': '4,27%', '2024': '16,04%', 'Receita': '7.115.360', 'Receita_2': '1.708.020', '2023': '23,73%', 'Venda de ativos': '22.673.400', 'Venda de ativos_2': '6.173.410', '2022': '-11,05%', 'FFO': '5.080.460', 'FFO_2': '1.025.220', '2021': '-9,69%', 'Rend. Distribuído': '13.990.300', 'Rend. Distribuído_2': '1.443.910', '2020': '-11,89%', '': '', 'Ativos': '115.719.000', 'Patrim Líquido': '115.049.000', 'Qtd imóveis': '7', 'Área (m2)': '59.660', 'Cap Rate': '10,0%', 'Qtd Unidades': '10', 'Aluguel/m2': '111', 'Vacância Média': '24,5%', 'Imóveis/PL do FII': '92,1%', 'Preço do m2': '1.114', '_2': ''}\n"
     ]
    }
   ],
   "source": [
    "import fiiscraper as fscp\n",
    "from fiiscraper.models import FII\n",
    "import pandas as pd\n",
    "import yfinance as yf\n",
    "from datetime import date\n",
    "from dateutil.relativedelta import relativedelta\n",
    "from bs4 import BeautifulSoup\n",
    "import requests\n",
    "\n",
    "scraper = fscp.Scraper()\n",
    "\n",
    "# Adiciona o sufixo .SA para ativos brasileiros\n",
    "lista_fiis = scraper.listar_todos_fiis()\n",
    "lista_reduzida = lista_fiis[:10]\n",
    "\n",
    "#ticker = [\"BCFF11\", \"YYYY11\", \"VISC11\"]\n",
    "df = scraper.buscar_precos_em_lote([fii.ticker for fii in lista_reduzida])\n",
    "\n",
    "# Busca os dados de indicadores do dia\n",
    "indicadores_fiis = []\n",
    "for fii in lista_reduzida:\n",
    "\n",
    "    # Busca indicadores do FII\n",
    "    indicadores_fii = scraper.buscar_indicadores_dia(fii.ticker)\n",
    "    \n",
    "    # Adiciona FII à lista\n",
    "    indicadores_fiis.append(indicadores_fii)"
   ]
  },
  {
   "cell_type": "code",
   "execution_count": 3,
   "id": "d60419e6",
   "metadata": {},
   "outputs": [
    {
     "data": {
      "text/plain": [
       "{}"
      ]
     },
     "execution_count": 3,
     "metadata": {},
     "output_type": "execute_result"
    }
   ],
   "source": [
    "lol = scraper._buscar_html('https://www.fundamentus.com.br/detalhes.php?papel=MXRF11')\n",
    "scraper._parsear_pagina_fii(lol.text)"
   ]
  },
  {
   "cell_type": "code",
   "execution_count": 6,
   "id": "7b444a75",
   "metadata": {},
   "outputs": [
    {
     "name": "stdout",
     "output_type": "stream",
     "text": [
      "Collecting pyarrow\n",
      "  Using cached pyarrow-21.0.0-cp313-cp313-win_amd64.whl.metadata (3.4 kB)\n",
      "Using cached pyarrow-21.0.0-cp313-cp313-win_amd64.whl (26.1 MB)\n",
      "Installing collected packages: pyarrow\n",
      "Successfully installed pyarrow-21.0.0\n",
      "Note: you may need to restart the kernel to use updated packages.\n"
     ]
    },
    {
     "name": "stderr",
     "output_type": "stream",
     "text": [
      "\n",
      "[notice] A new release of pip is available: 25.0.1 -> 25.2\n",
      "[notice] To update, run: python.exe -m pip install --upgrade pip\n"
     ]
    }
   ],
   "source": [
    "%pip install pyarrow"
   ]
  },
  {
   "cell_type": "code",
   "execution_count": null,
   "id": "6cde2edb",
   "metadata": {},
   "outputs": [
    {
     "data": {
      "text/plain": [
       "{'ResponseMetadata': {'RequestId': 'CN8TMJ9RB8T8VTKF',\n",
       "  'HostId': 'JBO3eNCXQjBy9Y38wLGzdJwc8jsgZCKshRVOTBYy6aKH1V2H1PChERiZps1O85Hb+03l4IftZU0=',\n",
       "  'HTTPStatusCode': 200,\n",
       "  'HTTPHeaders': {'x-amz-id-2': 'JBO3eNCXQjBy9Y38wLGzdJwc8jsgZCKshRVOTBYy6aKH1V2H1PChERiZps1O85Hb+03l4IftZU0=',\n",
       "   'x-amz-request-id': 'CN8TMJ9RB8T8VTKF',\n",
       "   'date': 'Tue, 21 Oct 2025 12:14:53 GMT',\n",
       "   'x-amz-server-side-encryption': 'AES256',\n",
       "   'etag': '\"d41d8cd98f00b204e9800998ecf8427e\"',\n",
       "   'x-amz-checksum-crc32': 'AAAAAA==',\n",
       "   'x-amz-checksum-type': 'FULL_OBJECT',\n",
       "   'content-length': '0',\n",
       "   'server': 'AmazonS3'},\n",
       "  'RetryAttempts': 0},\n",
       " 'ETag': '\"d41d8cd98f00b204e9800998ecf8427e\"',\n",
       " 'ChecksumCRC32': 'AAAAAA==',\n",
       " 'ChecksumType': 'FULL_OBJECT',\n",
       " 'ServerSideEncryption': 'AES256'}"
      ]
     },
     "execution_count": 2,
     "metadata": {},
     "output_type": "execute_result"
    }
   ],
   "source": [
    "import boto3\n",
    "import pandas as pd\n",
    "import io  # Necessário para o buffer em memória\n",
    "import pyarrow\n",
    "from datetime import date, timedelta\n",
    "\n",
    "df = pd.DataFrame({'A':[1, 2, 3],\n",
    "                   'B': [4, 5, 6]})\n",
    "\n",
    "today = date.today() - timedelta(days=1)\n",
    "yesterday = today\n",
    "\n",
    "nome_bucket = 'fii-data-bucket'\n",
    "nome_arquivo_s3_indicators = f'raw/daily_prices/price_date={yesterday.isoformat()}/data_parquet'\n",
    "nome_arquivo_s3_prices = f'raw/price_history_snapshots/ingest_date={today.isoformat()}/data_parquet'\n",
    "\n",
    "s3_client = boto3.client('s3')\n",
    "\n",
    "# 1. Cria um buffer de bytes em memória (uma \"caixa de despacho\" virtual)\n",
    "buffer_parquet = io.BytesIO()\n",
    "\n",
    "# 2. Escreve o DataFrame no buffer em formato Parquet\n",
    "df.to_parquet(buffer_parquet, index=False)\n",
    "\n",
    "# 3. \"Rebobina\" o buffer para o início antes de o ler para o upload\n",
    "buffer_parquet.seek(0)\n",
    "\n",
    "# 4. Usa put_object para enviar o conteúdo do buffer (os bytes)\n",
    "s3_client.put_object(\n",
    "    Bucket=nome_bucket,\n",
    "    Key=nome_arquivo_s3_indicators,\n",
    "    Body=buffer_parquet\n",
    ")\n",
    "\n",
    "s3_client.put_object(\n",
    "    Bucket=nome_bucket,\n",
    "    Key=nome_arquivo_s3_prices,\n",
    "    Body=buffer_parquet\n",
    ")"
   ]
  },
  {
   "cell_type": "code",
   "execution_count": null,
   "id": "f3181777",
   "metadata": {},
   "outputs": [
    {
     "data": {
      "application/vnd.microsoft.datawrangler.viewer.v0+json": {
       "columns": [
        {
         "name": "index",
         "rawType": "int64",
         "type": "integer"
        },
        {
         "name": "A",
         "rawType": "int64",
         "type": "integer"
        },
        {
         "name": "B",
         "rawType": "int64",
         "type": "integer"
        }
       ],
       "ref": "a25eabc9-3df4-4ca5-8fa1-5d6deb0bc29c",
       "rows": [
        [
         "0",
         "1",
         "4"
        ],
        [
         "1",
         "2",
         "5"
        ],
        [
         "2",
         "3",
         "6"
        ]
       ],
       "shape": {
        "columns": 2,
        "rows": 3
       }
      },
      "text/html": [
       "<div>\n",
       "<style scoped>\n",
       "    .dataframe tbody tr th:only-of-type {\n",
       "        vertical-align: middle;\n",
       "    }\n",
       "\n",
       "    .dataframe tbody tr th {\n",
       "        vertical-align: top;\n",
       "    }\n",
       "\n",
       "    .dataframe thead th {\n",
       "        text-align: right;\n",
       "    }\n",
       "</style>\n",
       "<table border=\"1\" class=\"dataframe\">\n",
       "  <thead>\n",
       "    <tr style=\"text-align: right;\">\n",
       "      <th></th>\n",
       "      <th>A</th>\n",
       "      <th>B</th>\n",
       "    </tr>\n",
       "  </thead>\n",
       "  <tbody>\n",
       "    <tr>\n",
       "      <th>0</th>\n",
       "      <td>1</td>\n",
       "      <td>4</td>\n",
       "    </tr>\n",
       "    <tr>\n",
       "      <th>1</th>\n",
       "      <td>2</td>\n",
       "      <td>5</td>\n",
       "    </tr>\n",
       "    <tr>\n",
       "      <th>2</th>\n",
       "      <td>3</td>\n",
       "      <td>6</td>\n",
       "    </tr>\n",
       "  </tbody>\n",
       "</table>\n",
       "</div>"
      ],
      "text/plain": [
       "   A  B\n",
       "0  1  4\n",
       "1  2  5\n",
       "2  3  6"
      ]
     },
     "execution_count": 6,
     "metadata": {},
     "output_type": "execute_result"
    }
   ],
   "source": []
  }
 ],
 "metadata": {
  "kernelspec": {
   "display_name": "venv",
   "language": "python",
   "name": "python3"
  },
  "language_info": {
   "codemirror_mode": {
    "name": "ipython",
    "version": 3
   },
   "file_extension": ".py",
   "mimetype": "text/x-python",
   "name": "python",
   "nbconvert_exporter": "python",
   "pygments_lexer": "ipython3",
   "version": "3.13.3"
  }
 },
 "nbformat": 4,
 "nbformat_minor": 5
}
